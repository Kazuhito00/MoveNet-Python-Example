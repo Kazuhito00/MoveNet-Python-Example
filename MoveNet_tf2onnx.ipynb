{
  "nbformat": 4,
  "nbformat_minor": 0,
  "metadata": {
    "colab": {
      "name": "MoveNet-tf2onnx.ipynb",
      "provenance": [],
      "collapsed_sections": []
    },
    "kernelspec": {
      "name": "python3",
      "display_name": "Python 3"
    },
    "language_info": {
      "name": "python"
    }
  },
  "cells": [
    {
      "cell_type": "markdown",
      "metadata": {
        "id": "XL5ZIKOP_R7_"
      },
      "source": [
        "# パッケージインストール(Package install)"
      ]
    },
    {
      "cell_type": "code",
      "metadata": {
        "colab": {
          "base_uri": "https://localhost:8080/"
        },
        "id": "K9btfs1u_Htr",
        "outputId": "89f32224-06ea-471a-c5bf-e3a2da22343d"
      },
      "source": [
        "!pip install -U tf2onnx\n",
        "!pip install onnxruntime"
      ],
      "execution_count": 1,
      "outputs": [
        {
          "output_type": "stream",
          "text": [
            "Collecting tf2onnx\n",
            "  Downloading tf2onnx-1.9.2-py3-none-any.whl (430 kB)\n",
            "\u001b[?25l\r\u001b[K     |▊                               | 10 kB 24.0 MB/s eta 0:00:01\r\u001b[K     |█▌                              | 20 kB 27.2 MB/s eta 0:00:01\r\u001b[K     |██▎                             | 30 kB 11.9 MB/s eta 0:00:01\r\u001b[K     |███                             | 40 kB 9.7 MB/s eta 0:00:01\r\u001b[K     |███▉                            | 51 kB 5.2 MB/s eta 0:00:01\r\u001b[K     |████▋                           | 61 kB 5.7 MB/s eta 0:00:01\r\u001b[K     |█████▎                          | 71 kB 5.5 MB/s eta 0:00:01\r\u001b[K     |██████                          | 81 kB 6.1 MB/s eta 0:00:01\r\u001b[K     |██████▉                         | 92 kB 4.6 MB/s eta 0:00:01\r\u001b[K     |███████▋                        | 102 kB 5.0 MB/s eta 0:00:01\r\u001b[K     |████████▍                       | 112 kB 5.0 MB/s eta 0:00:01\r\u001b[K     |█████████▏                      | 122 kB 5.0 MB/s eta 0:00:01\r\u001b[K     |██████████                      | 133 kB 5.0 MB/s eta 0:00:01\r\u001b[K     |██████████▋                     | 143 kB 5.0 MB/s eta 0:00:01\r\u001b[K     |███████████▍                    | 153 kB 5.0 MB/s eta 0:00:01\r\u001b[K     |████████████▏                   | 163 kB 5.0 MB/s eta 0:00:01\r\u001b[K     |█████████████                   | 174 kB 5.0 MB/s eta 0:00:01\r\u001b[K     |█████████████▊                  | 184 kB 5.0 MB/s eta 0:00:01\r\u001b[K     |██████████████▌                 | 194 kB 5.0 MB/s eta 0:00:01\r\u001b[K     |███████████████▎                | 204 kB 5.0 MB/s eta 0:00:01\r\u001b[K     |████████████████                | 215 kB 5.0 MB/s eta 0:00:01\r\u001b[K     |████████████████▊               | 225 kB 5.0 MB/s eta 0:00:01\r\u001b[K     |█████████████████▌              | 235 kB 5.0 MB/s eta 0:00:01\r\u001b[K     |██████████████████▎             | 245 kB 5.0 MB/s eta 0:00:01\r\u001b[K     |███████████████████             | 256 kB 5.0 MB/s eta 0:00:01\r\u001b[K     |███████████████████▉            | 266 kB 5.0 MB/s eta 0:00:01\r\u001b[K     |████████████████████▋           | 276 kB 5.0 MB/s eta 0:00:01\r\u001b[K     |█████████████████████▎          | 286 kB 5.0 MB/s eta 0:00:01\r\u001b[K     |██████████████████████          | 296 kB 5.0 MB/s eta 0:00:01\r\u001b[K     |██████████████████████▉         | 307 kB 5.0 MB/s eta 0:00:01\r\u001b[K     |███████████████████████▋        | 317 kB 5.0 MB/s eta 0:00:01\r\u001b[K     |████████████████████████▍       | 327 kB 5.0 MB/s eta 0:00:01\r\u001b[K     |█████████████████████████▏      | 337 kB 5.0 MB/s eta 0:00:01\r\u001b[K     |██████████████████████████      | 348 kB 5.0 MB/s eta 0:00:01\r\u001b[K     |██████████████████████████▋     | 358 kB 5.0 MB/s eta 0:00:01\r\u001b[K     |███████████████████████████▍    | 368 kB 5.0 MB/s eta 0:00:01\r\u001b[K     |████████████████████████████▏   | 378 kB 5.0 MB/s eta 0:00:01\r\u001b[K     |█████████████████████████████   | 389 kB 5.0 MB/s eta 0:00:01\r\u001b[K     |█████████████████████████████▊  | 399 kB 5.0 MB/s eta 0:00:01\r\u001b[K     |██████████████████████████████▌ | 409 kB 5.0 MB/s eta 0:00:01\r\u001b[K     |███████████████████████████████▎| 419 kB 5.0 MB/s eta 0:00:01\r\u001b[K     |████████████████████████████████| 430 kB 5.0 MB/s eta 0:00:01\r\u001b[K     |████████████████████████████████| 430 kB 5.0 MB/s \n",
            "\u001b[?25hRequirement already satisfied: requests in /usr/local/lib/python3.7/dist-packages (from tf2onnx) (2.23.0)\n",
            "Requirement already satisfied: flatbuffers~=1.12 in /usr/local/lib/python3.7/dist-packages (from tf2onnx) (1.12)\n",
            "Requirement already satisfied: six in /usr/local/lib/python3.7/dist-packages (from tf2onnx) (1.15.0)\n",
            "Requirement already satisfied: numpy>=1.14.1 in /usr/local/lib/python3.7/dist-packages (from tf2onnx) (1.19.5)\n",
            "Collecting onnx>=1.4.1\n",
            "  Downloading onnx-1.10.1-cp37-cp37m-manylinux_2_12_x86_64.manylinux2010_x86_64.whl (12.3 MB)\n",
            "\u001b[K     |████████████████████████████████| 12.3 MB 42.0 MB/s \n",
            "\u001b[?25hRequirement already satisfied: typing-extensions>=3.6.2.1 in /usr/local/lib/python3.7/dist-packages (from onnx>=1.4.1->tf2onnx) (3.7.4.3)\n",
            "Requirement already satisfied: protobuf in /usr/local/lib/python3.7/dist-packages (from onnx>=1.4.1->tf2onnx) (3.17.3)\n",
            "Requirement already satisfied: idna<3,>=2.5 in /usr/local/lib/python3.7/dist-packages (from requests->tf2onnx) (2.10)\n",
            "Requirement already satisfied: certifi>=2017.4.17 in /usr/local/lib/python3.7/dist-packages (from requests->tf2onnx) (2021.5.30)\n",
            "Requirement already satisfied: urllib3!=1.25.0,!=1.25.1,<1.26,>=1.21.1 in /usr/local/lib/python3.7/dist-packages (from requests->tf2onnx) (1.24.3)\n",
            "Requirement already satisfied: chardet<4,>=3.0.2 in /usr/local/lib/python3.7/dist-packages (from requests->tf2onnx) (3.0.4)\n",
            "Installing collected packages: onnx, tf2onnx\n",
            "Successfully installed onnx-1.10.1 tf2onnx-1.9.2\n",
            "Collecting onnxruntime\n",
            "  Downloading onnxruntime-1.8.1-cp37-cp37m-manylinux_2_17_x86_64.manylinux2014_x86_64.whl (4.5 MB)\n",
            "\u001b[K     |████████████████████████████████| 4.5 MB 5.1 MB/s \n",
            "\u001b[?25hRequirement already satisfied: numpy>=1.16.6 in /usr/local/lib/python3.7/dist-packages (from onnxruntime) (1.19.5)\n",
            "Requirement already satisfied: protobuf in /usr/local/lib/python3.7/dist-packages (from onnxruntime) (3.17.3)\n",
            "Requirement already satisfied: flatbuffers in /usr/local/lib/python3.7/dist-packages (from onnxruntime) (1.12)\n",
            "Requirement already satisfied: six>=1.9 in /usr/local/lib/python3.7/dist-packages (from protobuf->onnxruntime) (1.15.0)\n",
            "Installing collected packages: onnxruntime\n",
            "Successfully installed onnxruntime-1.8.1\n"
          ],
          "name": "stdout"
        }
      ]
    },
    {
      "cell_type": "markdown",
      "metadata": {
        "id": "tR8xMD6Z_VLS"
      },
      "source": [
        "# Saved Model v4 ファイルダウンロード(Saved Model v4 file download)"
      ]
    },
    {
      "cell_type": "code",
      "metadata": {
        "id": "kx__hWSm_OaE"
      },
      "source": [
        "# lightning(v4) singlepose\n",
        "!wget -q -O movenet_singlepose_lightning_4.tar.gz https://tfhub.dev/google/movenet/singlepose/lightning/4?tf-hub-format=compressed"
      ],
      "execution_count": 2,
      "outputs": []
    },
    {
      "cell_type": "code",
      "metadata": {
        "id": "hX8dhXPM_oBz",
        "colab": {
          "base_uri": "https://localhost:8080/"
        },
        "outputId": "71bdccb7-c1b6-4c02-feba-42e10ff5fc2d"
      },
      "source": [
        "!mkdir movenet_singlepose_lightning_4\n",
        "!tar -zxvf movenet_singlepose_lightning_4.tar.gz -C movenet_singlepose_lightning_4/"
      ],
      "execution_count": 3,
      "outputs": [
        {
          "output_type": "stream",
          "text": [
            "./\n",
            "./saved_model.pb\n",
            "./variables/\n",
            "./variables/variables.index\n",
            "./variables/variables.data-00000-of-00001\n",
            "./assets/\n"
          ],
          "name": "stdout"
        }
      ]
    },
    {
      "cell_type": "code",
      "metadata": {
        "id": "qZCmwGlBEFox"
      },
      "source": [
        "# thunder(v4) singlepose\n",
        "!wget -q -O movenet_singlepose_thunder_4.tar.gz https://tfhub.dev/google/movenet/singlepose/thunder/4?tf-hub-format=compressed"
      ],
      "execution_count": 4,
      "outputs": []
    },
    {
      "cell_type": "code",
      "metadata": {
        "colab": {
          "base_uri": "https://localhost:8080/"
        },
        "id": "GJ4c5Pfvpl9y",
        "outputId": "26c157ad-d855-40a0-cf16-1536137dc353"
      },
      "source": [
        "!mkdir movenet_singlepose_thunder_4\n",
        "!tar -zxvf movenet_singlepose_thunder_4.tar.gz -C movenet_singlepose_thunder_4/"
      ],
      "execution_count": 5,
      "outputs": [
        {
          "output_type": "stream",
          "text": [
            "./\n",
            "./saved_model.pb\n",
            "./variables/\n",
            "./variables/variables.index\n",
            "./variables/variables.data-00000-of-00001\n",
            "./assets/\n"
          ],
          "name": "stdout"
        }
      ]
    },
    {
      "cell_type": "code",
      "metadata": {
        "id": "mXgaunLoqFD3"
      },
      "source": [
        "# lightning(v1) multipose\n",
        "!wget -q -O movenet_multipose_lightning_1.tar.gz https://tfhub.dev/google/movenet/multipose/lightning/1?tf-hub-format=compressed"
      ],
      "execution_count": 6,
      "outputs": []
    },
    {
      "cell_type": "code",
      "metadata": {
        "colab": {
          "base_uri": "https://localhost:8080/"
        },
        "id": "Z60ynPk6qN26",
        "outputId": "bca5bdac-0666-4440-939e-1afcb3bbee01"
      },
      "source": [
        "!mkdir movenet_multipose_lightning_1\n",
        "!tar -zxvf movenet_multipose_lightning_1.tar.gz -C movenet_multipose_lightning_1/"
      ],
      "execution_count": 7,
      "outputs": [
        {
          "output_type": "stream",
          "text": [
            "./\n",
            "./saved_model.pb\n",
            "./variables/\n",
            "./variables/variables.index\n",
            "./variables/variables.data-00000-of-00001\n",
            "./assets/\n"
          ],
          "name": "stdout"
        }
      ]
    },
    {
      "cell_type": "markdown",
      "metadata": {
        "id": "gOSwwicjBkPS"
      },
      "source": [
        "# tfliteからONNXへ変換(Convert from tflite to ONNX)"
      ]
    },
    {
      "cell_type": "code",
      "metadata": {
        "id": "C8qXrQf4Aj8a",
        "colab": {
          "base_uri": "https://localhost:8080/"
        },
        "outputId": "8d0b5d3e-23e3-407b-8cda-38fc3d129d4c"
      },
      "source": [
        "# lightning(v4) singlepose\n",
        "!python -m tf2onnx.convert --opset 11 \\\n",
        "    --saved-model movenet_singlepose_lightning_4 \\\n",
        "    --output movenet_singlepose_lightning_4.onnx"
      ],
      "execution_count": 9,
      "outputs": [
        {
          "output_type": "stream",
          "text": [
            "/usr/lib/python3.7/runpy.py:125: RuntimeWarning: 'tf2onnx.convert' found in sys.modules after import of package 'tf2onnx', but prior to execution of 'tf2onnx.convert'; this may result in unpredictable behaviour\n",
            "  warn(RuntimeWarning(msg))\n",
            "2021-08-23 15:38:32,371 - WARNING - '--tag' not specified for saved_model. Using --tag serve\n",
            "2021-08-23 15:38:48,900 - INFO - Signatures found in model: [serving_default].\n",
            "2021-08-23 15:38:48,901 - WARNING - '--signature_def' not specified, using first signature: serving_default\n",
            "2021-08-23 15:38:48,902 - INFO - Output names: ['output_0']\n",
            "WARNING:tensorflow:From /usr/local/lib/python3.7/dist-packages/tf2onnx/tf_loader.py:703: extract_sub_graph (from tensorflow.python.framework.graph_util_impl) is deprecated and will be removed in a future version.\n",
            "Instructions for updating:\n",
            "Use `tf.compat.v1.graph_util.extract_sub_graph`\n",
            "2021-08-23 15:38:50,490 - WARNING - From /usr/local/lib/python3.7/dist-packages/tf2onnx/tf_loader.py:703: extract_sub_graph (from tensorflow.python.framework.graph_util_impl) is deprecated and will be removed in a future version.\n",
            "Instructions for updating:\n",
            "Use `tf.compat.v1.graph_util.extract_sub_graph`\n",
            "2021-08-23 15:38:51,030 - INFO - Using tensorflow=2.6.0, onnx=1.10.1, tf2onnx=1.9.2/0f28b7\n",
            "2021-08-23 15:38:51,030 - INFO - Using opset <onnx, 11>\n",
            "2021-08-23 15:38:51,915 - INFO - Computed 0 values for constant folding\n",
            "2021-08-23 15:38:54,421 - INFO - Optimizing ONNX model\n",
            "2021-08-23 15:38:56,726 - INFO - After optimization: BatchNormalization -45 (55->10), Cast -12 (22->10), Const -254 (456->202), Identity -5 (5->0), Reshape -23 (32->9), Squeeze -2 (6->4), Transpose -284 (288->4), Unsqueeze -4 (16->12)\n",
            "2021-08-23 15:38:56,760 - INFO - \n",
            "2021-08-23 15:38:56,760 - INFO - Successfully converted TensorFlow model movenet_singlepose_lightning_4 to ONNX\n",
            "2021-08-23 15:38:56,760 - INFO - Model inputs: ['input']\n",
            "2021-08-23 15:38:56,760 - INFO - Model outputs: ['output_0']\n",
            "2021-08-23 15:38:56,761 - INFO - ONNX model is saved at movenet_singlepose_lightning_4.onnx\n"
          ],
          "name": "stdout"
        }
      ]
    },
    {
      "cell_type": "code",
      "metadata": {
        "colab": {
          "base_uri": "https://localhost:8080/"
        },
        "id": "zOuJplQFqbiU",
        "outputId": "b8a4879c-0abb-4375-c3e0-9d90fa874488"
      },
      "source": [
        "# thunder(v4) singlepose\n",
        "!python -m tf2onnx.convert --opset 11 \\\n",
        "    --saved-model movenet_singlepose_thunder_4 \\\n",
        "    --output movenet_singlepose_thunder_4.onnx"
      ],
      "execution_count": 10,
      "outputs": [
        {
          "output_type": "stream",
          "text": [
            "/usr/lib/python3.7/runpy.py:125: RuntimeWarning: 'tf2onnx.convert' found in sys.modules after import of package 'tf2onnx', but prior to execution of 'tf2onnx.convert'; this may result in unpredictable behaviour\n",
            "  warn(RuntimeWarning(msg))\n",
            "2021-08-23 15:39:06,388 - WARNING - '--tag' not specified for saved_model. Using --tag serve\n",
            "2021-08-23 15:39:22,578 - INFO - Signatures found in model: [serving_default].\n",
            "2021-08-23 15:39:22,579 - WARNING - '--signature_def' not specified, using first signature: serving_default\n",
            "2021-08-23 15:39:22,580 - INFO - Output names: ['output_0']\n",
            "WARNING:tensorflow:From /usr/local/lib/python3.7/dist-packages/tf2onnx/tf_loader.py:703: extract_sub_graph (from tensorflow.python.framework.graph_util_impl) is deprecated and will be removed in a future version.\n",
            "Instructions for updating:\n",
            "Use `tf.compat.v1.graph_util.extract_sub_graph`\n",
            "2021-08-23 15:39:24,352 - WARNING - From /usr/local/lib/python3.7/dist-packages/tf2onnx/tf_loader.py:703: extract_sub_graph (from tensorflow.python.framework.graph_util_impl) is deprecated and will be removed in a future version.\n",
            "Instructions for updating:\n",
            "Use `tf.compat.v1.graph_util.extract_sub_graph`\n",
            "2021-08-23 15:39:24,996 - INFO - Using tensorflow=2.6.0, onnx=1.10.1, tf2onnx=1.9.2/0f28b7\n",
            "2021-08-23 15:39:24,996 - INFO - Using opset <onnx, 11>\n",
            "2021-08-23 15:39:26,945 - INFO - Computed 0 values for constant folding\n",
            "2021-08-23 15:39:30,147 - INFO - Optimizing ONNX model\n",
            "2021-08-23 15:39:32,531 - INFO - After optimization: BatchNormalization -45 (55->10), Cast -12 (22->10), Const -254 (456->202), Identity -5 (5->0), Reshape -23 (32->9), Squeeze -2 (6->4), Transpose -284 (288->4), Unsqueeze -4 (16->12)\n",
            "2021-08-23 15:39:32,584 - INFO - \n",
            "2021-08-23 15:39:32,584 - INFO - Successfully converted TensorFlow model movenet_singlepose_thunder_4 to ONNX\n",
            "2021-08-23 15:39:32,584 - INFO - Model inputs: ['input']\n",
            "2021-08-23 15:39:32,584 - INFO - Model outputs: ['output_0']\n",
            "2021-08-23 15:39:32,584 - INFO - ONNX model is saved at movenet_singlepose_thunder_4.onnx\n"
          ],
          "name": "stdout"
        }
      ]
    },
    {
      "cell_type": "code",
      "metadata": {
        "colab": {
          "base_uri": "https://localhost:8080/"
        },
        "id": "W7aM5KZEqgfE",
        "outputId": "edb2d6a2-0f69-4327-dedd-8922d5075587"
      },
      "source": [
        "# lightning(v1) multipose\n",
        "!python -m tf2onnx.convert --opset 11 \\\n",
        "    --saved-model movenet_multipose_lightning_1 \\\n",
        "    --output movenet_multipose_lightning_1.onnx"
      ],
      "execution_count": 11,
      "outputs": [
        {
          "output_type": "stream",
          "text": [
            "/usr/lib/python3.7/runpy.py:125: RuntimeWarning: 'tf2onnx.convert' found in sys.modules after import of package 'tf2onnx', but prior to execution of 'tf2onnx.convert'; this may result in unpredictable behaviour\n",
            "  warn(RuntimeWarning(msg))\n",
            "2021-08-23 15:39:35,452 - WARNING - '--tag' not specified for saved_model. Using --tag serve\n",
            "2021-08-23 15:39:49,820 - INFO - Signatures found in model: [serving_default].\n",
            "2021-08-23 15:39:49,820 - WARNING - '--signature_def' not specified, using first signature: serving_default\n",
            "2021-08-23 15:39:49,821 - INFO - Output names: ['output_0']\n",
            "WARNING:tensorflow:From /usr/local/lib/python3.7/dist-packages/tf2onnx/tf_loader.py:703: extract_sub_graph (from tensorflow.python.framework.graph_util_impl) is deprecated and will be removed in a future version.\n",
            "Instructions for updating:\n",
            "Use `tf.compat.v1.graph_util.extract_sub_graph`\n",
            "2021-08-23 15:39:51,844 - WARNING - From /usr/local/lib/python3.7/dist-packages/tf2onnx/tf_loader.py:703: extract_sub_graph (from tensorflow.python.framework.graph_util_impl) is deprecated and will be removed in a future version.\n",
            "Instructions for updating:\n",
            "Use `tf.compat.v1.graph_util.extract_sub_graph`\n",
            "2021-08-23 15:39:52,524 - INFO - Using tensorflow=2.6.0, onnx=1.10.1, tf2onnx=1.9.2/0f28b7\n",
            "2021-08-23 15:39:52,524 - INFO - Using opset <onnx, 11>\n",
            "2021-08-23 15:39:54,166 - INFO - Computed 0 values for constant folding\n",
            "2021-08-23 15:39:55,766 - INFO - Optimizing ONNX model\n",
            "2021-08-23 15:40:02,085 - INFO - After optimization: Add -2 (26->24), BatchNormalization -45 (55->10), Cast -27 (72->45), Concat -1 (15->14), Const -421 (658->237), Div -2 (9->7), Gather +5 (0->5), Identity -20 (20->0), Mul -2 (29->27), Reshape -26 (48->22), Shape -4 (11->7), Slice -3 (28->25), Transpose -298 (304->6), Unsqueeze -11 (47->36)\n",
            "2021-08-23 15:40:02,151 - INFO - \n",
            "2021-08-23 15:40:02,151 - INFO - Successfully converted TensorFlow model movenet_multipose_lightning_1 to ONNX\n",
            "2021-08-23 15:40:02,152 - INFO - Model inputs: ['input']\n",
            "2021-08-23 15:40:02,152 - INFO - Model outputs: ['output_0']\n",
            "2021-08-23 15:40:02,152 - INFO - ONNX model is saved at movenet_multipose_lightning_1.onnx\n"
          ],
          "name": "stdout"
        }
      ]
    },
    {
      "cell_type": "markdown",
      "metadata": {
        "id": "7idFiuPpBpk6"
      },
      "source": [
        "# 入力詳細・出力詳細確認(Check Input details & Output details)"
      ]
    },
    {
      "cell_type": "code",
      "metadata": {
        "id": "KBeEQlxLBcbY"
      },
      "source": [
        "import onnxruntime"
      ],
      "execution_count": 12,
      "outputs": []
    },
    {
      "cell_type": "code",
      "metadata": {
        "colab": {
          "base_uri": "https://localhost:8080/"
        },
        "id": "pUY9K-amBvqe",
        "outputId": "27ca04a7-e1a4-47bf-971d-9fa8c9fe639a"
      },
      "source": [
        "onnx_session = onnxruntime.InferenceSession('movenet_singlepose_lightning_4.onnx')\n",
        "input_detail = onnx_session.get_inputs()\n",
        "output_detail = onnx_session.get_outputs()\n",
        "\n",
        "print(len(input_detail), len(output_detail))\n",
        "print(input_detail[0])\n",
        "print(output_detail[0])"
      ],
      "execution_count": 13,
      "outputs": [
        {
          "output_type": "stream",
          "text": [
            "1 1\n",
            "NodeArg(name='input', type='tensor(int32)', shape=[1, 192, 192, 3])\n",
            "NodeArg(name='output_0', type='tensor(float)', shape=[1, 1, 17, 3])\n"
          ],
          "name": "stdout"
        }
      ]
    },
    {
      "cell_type": "code",
      "metadata": {
        "colab": {
          "base_uri": "https://localhost:8080/"
        },
        "id": "_TkayF1yCFVs",
        "outputId": "4a24203a-3cab-4b54-c6bf-2ce955252bd6"
      },
      "source": [
        "onnx_session = onnxruntime.InferenceSession('movenet_singlepose_thunder_4.onnx')\n",
        "input_detail = onnx_session.get_inputs()\n",
        "output_detail = onnx_session.get_outputs()\n",
        "\n",
        "print(len(input_detail), len(output_detail))\n",
        "print(input_detail[0])\n",
        "print(output_detail[0])"
      ],
      "execution_count": 14,
      "outputs": [
        {
          "output_type": "stream",
          "text": [
            "1 1\n",
            "NodeArg(name='input', type='tensor(int32)', shape=[1, 256, 256, 3])\n",
            "NodeArg(name='output_0', type='tensor(float)', shape=[1, 1, 17, 3])\n"
          ],
          "name": "stdout"
        }
      ]
    },
    {
      "cell_type": "code",
      "metadata": {
        "id": "EF3lqjR4EjHz",
        "colab": {
          "base_uri": "https://localhost:8080/"
        },
        "outputId": "bcb9fe89-b9d1-41b3-e584-fd49437f1cee"
      },
      "source": [
        "onnx_session = onnxruntime.InferenceSession('movenet_multipose_lightning_1.onnx')\n",
        "input_detail = onnx_session.get_inputs()\n",
        "output_detail = onnx_session.get_outputs()\n",
        "\n",
        "print(len(input_detail), len(output_detail))\n",
        "print(input_detail[0])\n",
        "print(output_detail[0])"
      ],
      "execution_count": 15,
      "outputs": [
        {
          "output_type": "stream",
          "text": [
            "1 1\n",
            "NodeArg(name='input', type='tensor(int32)', shape=[1, 'unk__1493', 'unk__1494', 3])\n",
            "NodeArg(name='output_0', type='tensor(float)', shape=[1, 6, 56])\n"
          ],
          "name": "stdout"
        }
      ]
    }
  ]
}